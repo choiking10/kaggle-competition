{
  "nbformat": 4,
  "nbformat_minor": 0,
  "metadata": {
    "colab": {
      "name": "kaggle-api-for-colab",
      "provenance": [],
      "toc_visible": true,
      "authorship_tag": "ABX9TyPhSkAcK+L2ZgMZE0Wk20jl",
      "include_colab_link": true
    },
    "kernelspec": {
      "name": "python3",
      "display_name": "Python 3"
    }
  },
  "cells": [
    {
      "cell_type": "markdown",
      "metadata": {
        "id": "view-in-github",
        "colab_type": "text"
      },
      "source": [
        "<a href=\"https://colab.research.google.com/github/choiking10/kaggle-competition/blob/main/kaggle_api_for_colab.ipynb\" target=\"_parent\"><img src=\"https://colab.research.google.com/assets/colab-badge.svg\" alt=\"Open In Colab\"/></a>"
      ]
    },
    {
      "cell_type": "markdown",
      "metadata": {
        "id": "AIe-AXbkTzyt"
      },
      "source": [
        "# Kaggle api for colab\r\n",
        "\r\n",
        "## Reference\r\n",
        "\r\n",
        "[캐글과 구글 Colab 연결해주기!](https://medium.com/hyunjulie/%EC%BA%90%EA%B8%80%EA%B3%BC-%EA%B5%AC%EA%B8%80-colab-%EC%97%B0%EA%B2%B0%ED%95%B4%EC%A3%BC%EA%B8%B0-6a274f6de81d)"
      ]
    },
    {
      "cell_type": "code",
      "metadata": {
        "id": "GKpAefXTTSIe"
      },
      "source": [
        "!pip install kaggle\r\n",
        "from google.colab import files\r\n",
        "\r\n",
        "# upload api token (kaggle.json)\r\n",
        "files.upload()\r\n",
        "\r\n",
        "!mkdir -p ~/.kaggle\r\n",
        "!cp kaggle.json ~/.kaggle/\r\n",
        "# Prevent Permission Warning \r\n",
        "!chmod 600 ~/.kaggle/kaggle.json\r\n",
        "# check json \r\n",
        "ls -1ha kaggle.json\r\n",
        " \r\n",
        "!kaggle competitions list\r\n",
        "\r\n",
        "# Dataset Download\r\n",
        "! kaggle competitions download -c reducing-commercial-aviation-fatalities\r\n",
        "\r\n",
        "# optional\r\n",
        "!unzip train.zip"
      ],
      "execution_count": null,
      "outputs": []
    }
  ]
}